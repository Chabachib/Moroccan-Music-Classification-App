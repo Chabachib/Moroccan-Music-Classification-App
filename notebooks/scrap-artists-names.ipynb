{
 "cells": [
  {
   "cell_type": "code",
   "execution_count": null,
   "metadata": {
    "id": "qwhoVX31aBwc"
   },
   "outputs": [],
   "source": [
    "import requests\n",
    "from bs4 import BeautifulSoup\n",
    "from selenium import webdriver\n",
    "from selenium.webdriver.chrome.service import Service\n",
    "from selenium.webdriver.common.by import By"
   ]
  },
  {
   "cell_type": "markdown",
   "metadata": {},
   "source": [
    "### BeautifulSoup"
   ]
  },
  {
   "cell_type": "code",
   "execution_count": null,
   "metadata": {
    "id": "RFyi8ScmaG8B"
   },
   "outputs": [],
   "source": [
    "def scrape_artist_names(url):\n",
    "    response = requests.get(url)\n",
    "    if response.status_code == 200:\n",
    "        soup = BeautifulSoup(response.content, 'html.parser')\n",
    "        artist_elements = soup.find_all(class_='link-block-target')\n",
    "        artist_names = [artist.text for artist in artist_elements]\n",
    "        return artist_names\n",
    "    else:\n",
    "        print(\"Failed to retrieve data from the URL\")\n",
    "        return []"
   ]
  },
  {
   "cell_type": "code",
   "execution_count": null,
   "metadata": {
    "id": "XP760zkFacBT"
   },
   "outputs": [],
   "source": [
    "urls = {\n",
    "    \"Rap\": [\n",
    "        \"https://www.last.fm/tag/moroccan+rap/artists?page=1\",\n",
    "        \"https://www.last.fm/tag/moroccan+rap/artists?page=2\"\n",
    "    ],\n",
    "    \"Andalusian\": [\n",
    "        \"https://www.last.fm/tag/andalusian/artists?page=1\",\n",
    "        \"https://www.last.fm/tag/andalusian/artists?page=2\"\n",
    "    ],\n",
    "    \"Gnawa\": [\n",
    "        \"https://www.last.fm/tag/gnawa/artists?page=1\"\n",
    "    ],\n",
    "    \"Chaabi\": [\n",
    "        \"https://www.last.fm/tag/moroccan+chaabi/artists\"\n",
    "    ],\n",
    "    \"Rai\" : [\n",
    "        \"https://www.last.fm/tag/rai/artists?page=1\",\n",
    "        \"https://www.last.fm/tag/rai/artists?page=2\",\n",
    "        \"https://www.last.fm/tag/rai/artists?page=3\"\n",
    "    ],\n",
    "    \"Pop\" : [\n",
    "        \"https://www.last.fm/tag/moroccan+pop/artists\"\n",
    "    ]\n",
    "}"
   ]
  },
  {
   "cell_type": "code",
   "execution_count": null,
   "metadata": {
    "colab": {
     "base_uri": "https://localhost:8080/"
    },
    "id": "-UJTR3oEJfO9",
    "outputId": "6674c573-858b-4410-f815-1849c372b263"
   },
   "outputs": [],
   "source": [
    "all_artist_names_by_genre = {}\n",
    "\n",
    "for genre, genre_urls in urls.items():\n",
    "    artist_names_for_genre = []\n",
    "    for url in genre_urls:\n",
    "        artist_names = scrape_artist_names(url)\n",
    "        artist_names_for_genre.extend(artist_names)\n",
    "    all_artist_names_by_genre[genre] = artist_names_for_genre\n",
    "\n",
    "for genre, artist_names in all_artist_names_by_genre.items():\n",
    "    print(f\"\\nScraped {genre} Artists:\")\n",
    "    for index, artist_name in enumerate(artist_names, start=1):\n",
    "        print(f\"{index}. {artist_name}\")"
   ]
  },
  {
   "cell_type": "markdown",
   "metadata": {},
   "source": [
    "### Webdriver"
   ]
  },
  {
   "cell_type": "code",
   "execution_count": null,
   "metadata": {},
   "outputs": [],
   "source": [
    "driver_path = 'Add-Your-Path\\\\chromedriver\\\\chromedriver.exe'\n",
    "service = Service(driver_path)"
   ]
  },
  {
   "cell_type": "code",
   "execution_count": null,
   "metadata": {},
   "outputs": [],
   "source": [
    "driver = webdriver.Chrome(service=service)\n",
    "driver.get(\"https://www.mozarkech.com/amazigh-musicians-middle-atlas-of-morocco/\")\n",
    "driver.implicitly_wait(10)"
   ]
  },
  {
   "cell_type": "code",
   "execution_count": null,
   "metadata": {},
   "outputs": [],
   "source": [
    "musicians = driver.find_elements(By.XPATH, \"/html/body/div[1]/div/div/div/main/article/div/div/h2\")\n",
    "print(\"Scraped Imazighn Artists :\")\n",
    "for musician in musicians:\n",
    "    print(musician.text)"
   ]
  },
  {
   "cell_type": "code",
   "execution_count": null,
   "metadata": {},
   "outputs": [],
   "source": [
    "driver.quit()"
   ]
  }
 ],
 "metadata": {
  "colab": {
   "provenance": []
  },
  "kernelspec": {
   "display_name": "Python 3 (ipykernel)",
   "language": "python",
   "name": "python3"
  },
  "language_info": {
   "codemirror_mode": {
    "name": "ipython",
    "version": 3
   },
   "file_extension": ".py",
   "mimetype": "text/x-python",
   "name": "python",
   "nbconvert_exporter": "python",
   "pygments_lexer": "ipython3",
   "version": "3.12.4"
  }
 },
 "nbformat": 4,
 "nbformat_minor": 4
}
