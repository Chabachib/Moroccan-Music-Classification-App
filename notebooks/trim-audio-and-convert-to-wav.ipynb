{
 "cells": [
  {
   "cell_type": "markdown",
   "id": "c9118833-17ff-494c-a0dd-055f68fa2eb6",
   "metadata": {},
   "source": [
    "## Trim and Convert"
   ]
  },
  {
   "cell_type": "code",
   "execution_count": null,
   "id": "678f56a8-046a-4961-b686-989a71a47131",
   "metadata": {},
   "outputs": [],
   "source": [
    "import os\n",
    "from pydub import AudioSegment"
   ]
  },
  {
   "cell_type": "code",
   "execution_count": null,
   "id": "eeccde45-080a-4433-a06f-1baa1a3ef87b",
   "metadata": {},
   "outputs": [],
   "source": [
    "def trim_and_convert_to_wav(input_folder, output_folder, base_name, segment_duration_ms=30000):\n",
    "    \n",
    "    audio_files = [f for f in os.listdir(input_folder) if f.endswith(('.mp3', '.wav'))] \n",
    "    segment_counter = 1\n",
    "    \n",
    "    for audio_file in audio_files:\n",
    "        audio_path = os.path.join(input_folder, audio_file)\n",
    "        audio = AudioSegment.from_file(audio_path)\n",
    "        audio_duration_ms = len(audio)\n",
    "        num_segments = audio_duration_ms // segment_duration_ms\n",
    "        for j in range(num_segments):\n",
    "            start_time = j * segment_duration_ms\n",
    "            end_time = start_time + segment_duration_ms\n",
    "            segment = audio[start_time:end_time]\n",
    "            output_file = os.path.join(output_folder, f\"{base_name}_{segment_counter}.wav\")\n",
    "            segment.export(output_file, format=\"wav\")\n",
    "            segment_counter += 1\n",
    "        remaining_time = audio_duration_ms % segment_duration_ms\n",
    "        if remaining_time == 0:\n",
    "            print(f\"Processed {audio_file}: All segments are 30 seconds long.\")\n",
    "        else:\n",
    "            print(f\"Processed {audio_file}: Discarded final segment of {remaining_time/1000} seconds.\")"
   ]
  },
  {
   "cell_type": "markdown",
   "id": "f6cf1a10-49a8-4c89-aef3-510d508c4ab8",
   "metadata": {},
   "source": [
    "### Rap Songs"
   ]
  },
  {
   "cell_type": "code",
   "execution_count": null,
   "id": "7661413e-4bea-4127-8a45-41806cadde73",
   "metadata": {
    "scrolled": true
   },
   "outputs": [],
   "source": [
    "input_folder = \"Add-Your-Path\\\\input-folder\\\\rap\"\n",
    "output_folder = \"Add-Your-Path\\\\output-folder\\\\rap\"\n",
    "base_name = \"rap\"\n",
    "trim_and_convert_to_wav(input_folder, output_folder, base_name)\n",
    "print(\"The trimming and conversion has been completed !\")"
   ]
  },
  {
   "cell_type": "markdown",
   "id": "730580bf-d659-437c-8c46-3d0b73c17318",
   "metadata": {},
   "source": [
    "### Gnawa Songs"
   ]
  },
  {
   "cell_type": "code",
   "execution_count": null,
   "id": "80d813df-8e6c-4b13-9a6f-ca396affc335",
   "metadata": {},
   "outputs": [],
   "source": [
    "input_folder = \"Add-Your-Path\\\\input-folder\\\\gnawa\"\n",
    "output_folder = \"Add-Your-Path\\\\output-folder\\\\gnawa\"\n",
    "base_name = \"gnawa\"\n",
    "trim_and_convert_to_wav(input_folder, output_folder, base_name)\n",
    "print(\"The trimming and conversion has been completed !\")"
   ]
  },
  {
   "cell_type": "markdown",
   "id": "f8fe8002-aa87-4d63-8e49-ed753ac5ce68",
   "metadata": {},
   "source": [
    "### Rai Songs"
   ]
  },
  {
   "cell_type": "code",
   "execution_count": null,
   "id": "a2b87181-1533-43a4-b183-a33a39e7f6c5",
   "metadata": {},
   "outputs": [],
   "source": [
    "input_folder = \"Add-Your-Path\\\\input-folder\\\\rai\"\n",
    "output_folder = \"Add-Your-Path\\\\output-folder\\\\rai\"\n",
    "base_name = \"rai\"\n",
    "trim_and_convert_to_wav(input_folder, output_folder, base_name)\n",
    "print(\"The trimming and conversion has been completed !\")"
   ]
  },
  {
   "cell_type": "markdown",
   "id": "336a4569-5e6b-4dbb-b7ca-b1ef7b1243c0",
   "metadata": {},
   "source": [
    "### Pop Songs"
   ]
  },
  {
   "cell_type": "code",
   "execution_count": null,
   "id": "43c74ef9-d36d-453e-8bf3-bfc1bcdba326",
   "metadata": {},
   "outputs": [],
   "source": [
    "input_folder = \"Add-Your-Path\\\\input-folder\\\\pop\"\n",
    "output_folder = \"Add-Your-Path\\\\output-folder\\\\pop\"\n",
    "base_name = \"pop\"\n",
    "trim_and_convert_to_wav(input_folder, output_folder, base_name)\n",
    "print(\"The trimming and conversion has been completed !\")"
   ]
  },
  {
   "cell_type": "markdown",
   "id": "f485bc79-d35b-4d70-9e6d-894f58eda8f1",
   "metadata": {},
   "source": [
    "### Andalusian Songs"
   ]
  },
  {
   "cell_type": "code",
   "execution_count": null,
   "id": "64b4b79e-d576-4333-a35f-51115b1f8734",
   "metadata": {},
   "outputs": [],
   "source": [
    "input_folder = \"Add-Your-Path\\\\input-folder\\\\andalusian\"\n",
    "output_folder = \"Add-Your-Path\\\\output-folder\\\\andalusian\"\n",
    "base_name = \"andalusian\"\n",
    "trim_and_convert_to_wav(input_folder, output_folder, base_name)\n",
    "print(\"The trimming and conversion has been completed !\")"
   ]
  },
  {
   "cell_type": "markdown",
   "id": "bf129567-3a72-461a-841b-d3e0b4d31491",
   "metadata": {},
   "source": [
    "### Imazighn Songs"
   ]
  },
  {
   "cell_type": "code",
   "execution_count": null,
   "id": "635ac05a-81ad-47dc-99b2-4c31b17c014f",
   "metadata": {},
   "outputs": [],
   "source": [
    "input_folder = \"Add-Your-Path\\\\input-folder\\\\imazighn\"\n",
    "output_folder = \"Add-Your-Path\\\\output-folder\\\\imazighn\"\n",
    "base_name = \"imazighn\"\n",
    "trim_and_convert_to_wav(input_folder, output_folder, base_name)\n",
    "print(\"The trimming and conversion has been completed !\")"
   ]
  },
  {
   "cell_type": "markdown",
   "id": "31d4bd80-1f7a-49e3-8730-0413a759b82d",
   "metadata": {},
   "source": [
    "### Chaabi Songs"
   ]
  },
  {
   "cell_type": "code",
   "execution_count": null,
   "id": "85b6227a-b452-4b9c-ae7c-972fd1a2ef6f",
   "metadata": {},
   "outputs": [],
   "source": [
    "input_folder = \"Add-Your-Path\\\\input-folder\\\\chaabi\"\n",
    "output_folder = \"Add-Your-Path\\\\output-folder\\\\chaabi\"\n",
    "base_name = \"chaabi\"\n",
    "trim_and_convert_to_wav(input_folder, output_folder, base_name)\n",
    "print(\"The trimming and conversion has been completed !\")"
   ]
  }
 ],
 "metadata": {
  "kernelspec": {
   "display_name": "Python 3 (ipykernel)",
   "language": "python",
   "name": "python3"
  },
  "language_info": {
   "codemirror_mode": {
    "name": "ipython",
    "version": 3
   },
   "file_extension": ".py",
   "mimetype": "text/x-python",
   "name": "python",
   "nbconvert_exporter": "python",
   "pygments_lexer": "ipython3",
   "version": "3.12.4"
  }
 },
 "nbformat": 4,
 "nbformat_minor": 5
}
