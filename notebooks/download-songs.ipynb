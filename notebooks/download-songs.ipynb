{
 "cells": [
  {
   "cell_type": "markdown",
   "id": "483ee031-38d2-4963-8f75-6d295b0e5608",
   "metadata": {},
   "source": [
    "## Download Songs"
   ]
  },
  {
   "cell_type": "code",
   "execution_count": null,
   "id": "19a8d51a-1f74-4c39-abf4-9723c02d08e6",
   "metadata": {},
   "outputs": [],
   "source": [
    "from pytube import YouTube\n",
    "import os"
   ]
  },
  {
   "cell_type": "code",
   "execution_count": null,
   "id": "7882dbcf-f5ce-4fa9-ac84-34c6f45534e0",
   "metadata": {},
   "outputs": [],
   "source": [
    "def download_audio_from_list(links, output_folder):\n",
    "    for link in links:\n",
    "        try:\n",
    "            youtube_object = YouTube(link)\n",
    "            title = youtube_object.title\n",
    "            audio_stream = youtube_object.streams.filter(only_audio=True).first()\n",
    "            title = title.replace(\"/\", \"-\").replace(\"\\\\\", \"-\").replace(\":\", \"-\").replace(\"*\", \"-\").replace(\"?\", \"-\").replace(\"\\\"\", \"'\").replace(\"<\", \"-\").replace(\">\", \"-\").replace(\"|\", \"-\")\n",
    "            file_path = os.path.join(output_folder, f\"{title}.mp3\")\n",
    "            audio_stream.download(output_path=output_folder, filename=f\"{title}.mp3\")\n",
    "            print(f\"Audio from {link} downloaded successfully\")\n",
    "        except Exception as e:\n",
    "            print(f\"An error occurred while downloading audio from {link}: {e}\")"
   ]
  },
  {
   "cell_type": "markdown",
   "id": "6bdbc763-0156-4ea2-96f7-7e6162405b76",
   "metadata": {},
   "source": [
    "### Rap Songs"
   ]
  },
  {
   "cell_type": "code",
   "execution_count": null,
   "id": "8f887b13-a508-4754-bc6c-e4ce0cccf758",
   "metadata": {},
   "outputs": [],
   "source": [
    "rap_video_urls = [\n",
    "    \"https://www.youtube.com/watch?v=gtkTG8zWToA\", \"https://www.youtube.com/watch?v=boLNPs0Awm4\", \"https://www.youtube.com/watch?v=DUCDXHAcD6g\",\n",
    "    \"https://www.youtube.com/watch?v=IePvhZqG-Ck\", \"https://www.youtube.com/watch?v=bYkR4zBnAMk\", \"https://www.youtube.com/watch?v=YCYj4vbCr40\",\n",
    "    \"https://www.youtube.com/watch?v=V2L6CJJ2_6c\", \"https://www.youtube.com/watch?v=a6Hb-Vr4ksE\", \"https://www.youtube.com/watch?v=ONEQOIfGVig\",\n",
    "    \"https://www.youtube.com/watch?v=xMF_dZdw-tA\", \"https://www.youtube.com/watch?v=XOt9mqfqXWw\", \"https://www.youtube.com/watch?v=sXsan3ua0Bc\",\n",
    "    \"https://www.youtube.com/watch?v=4MHTBkEpos8\", \"https://www.youtube.com/watch?v=_mY7mZRLAyU\", \"https://www.youtube.com/watch?v=qItn639bX6E\",\n",
    "    \"https://www.youtube.com/watch?v=CI4fnOYAdTs\", \"https://www.youtube.com/watch?v=uBNhj7x4xEY\", \"https://www.youtube.com/watch?v=ZHqdfV_64p8\",\n",
    "    \"https://www.youtube.com/watch?v=hkH-OQSErJY\", \"https://www.youtube.com/watch?v=hZd2mqxrONA\", \"https://www.youtube.com/watch?v=nhdmsgT9lhY\",\n",
    "    \"https://www.youtube.com/watch?v=R7jlLj_bJUA\", \"https://www.youtube.com/watch?v=5NSA05umW00\", \"https://www.youtube.com/watch?v=oJcQCp4Z1ZM\",\n",
    "    \"https://www.youtube.com/watch?v=6vdtMQO5JUQ\", \"https://www.youtube.com/watch?v=VxagfDYjHS4\", \"https://www.youtube.com/watch?v=GPI-Oswt3Bo\",\n",
    "    \"https://www.youtube.com/watch?v=1IKiIIzXUYE\", \"https://www.youtube.com/watch?v=DeIpOD5Lbqc\", \"https://www.youtube.com/watch?v=Q1ScxfeNnEw\",\n",
    "    \"https://www.youtube.com/watch?v=j0h45rQtiOM\", \"https://www.youtube.com/watch?v=AP8Idm-jfTc\", \"https://www.youtube.com/watch?v=idnYuK6Wxgo\",\n",
    "    \"https://www.youtube.com/watch?v=0hxk0tDqWqQ\", \"https://www.youtube.com/watch?v=7ZHfD4NfgHU\", \"https://www.youtube.com/watch?v=JCOzlrW99gs\",\n",
    "    \"https://www.youtube.com/watch?v=_Mq6etn6EFM\", \"https://www.youtube.com/watch?v=x_Oz5OBSYEk\", \"https://www.youtube.com/watch?v=EjNibQ64j8o\",\n",
    "    \"https://www.youtube.com/watch?v=GKBJlt524go\", \"https://www.youtube.com/watch?v=AfCOKb66qrQ\", \"https://www.youtube.com/watch?v=mVAJ6eGtYRA\",\n",
    "    \"https://www.youtube.com/watch?v=hybYjM-yi_8\", \"https://www.youtube.com/watch?v=qm2TONPWxIs\", \"https://www.youtube.com/watch?v=9ydQbG7fYqA\",\n",
    "    \"https://www.youtube.com/watch?v=zKXtMGrfVxA\", \"https://www.youtube.com/watch?v=Bip8hiS86hE\", \"https://www.youtube.com/watch?v=cQ1qJW47JmY\",\n",
    "    \"https://www.youtube.com/watch?v=LM2ROCsALig\", \"https://www.youtube.com/watch?v=nFAQ-AoxnCY\"\n",
    "]"
   ]
  },
  {
   "cell_type": "code",
   "execution_count": null,
   "id": "7c822a32-2e43-494e-a0f8-ee3d5eefde17",
   "metadata": {
    "scrolled": true
   },
   "outputs": [],
   "source": [
    "output_folder = \"Add-Your-Path\\\\rap\"\n",
    "download_audio_from_list(rap_video_urls, output_folder)\n",
    "print(\"The downloads are done !\")"
   ]
  },
  {
   "cell_type": "markdown",
   "id": "4a3a064b-ca2b-44a1-a71a-f76e6304a7a0",
   "metadata": {},
   "source": [
    "### Chaabi Songs"
   ]
  },
  {
   "cell_type": "code",
   "execution_count": null,
   "id": "6494a783-3d2b-4a38-bdfd-5df88ead723c",
   "metadata": {},
   "outputs": [],
   "source": [
    "chaabi_video_urls = [\n",
    "    \"https://www.youtube.com/watch?v=1dpVkz2q_DU\", \"https://www.youtube.com/watch?v=uOgWe9OzpJw\", \"https://www.youtube.com/watch?v=wf-5Ju2A0pI\",\n",
    "    \"https://www.youtube.com/watch?v=6DRntYaWCOs\", \"https://www.youtube.com/watch?v=FYuK7dznjRI\", \"https://www.youtube.com/watch?v=wxNjg5NPzBM\",\n",
    "    \"https://www.youtube.com/watch?v=D0A9stqiHxw\", \"https://www.youtube.com/watch?v=vXBkNYex_As\", \"https://www.youtube.com/watch?v=2VGyWT-JlBc\",\n",
    "    \"https://www.youtube.com/watch?v=oulINK_0vSM\", \"https://www.youtube.com/watch?v=1pu3BmxM0Qw\", \"https://www.youtube.com/watch?v=sz8hpaL1u2M\",\n",
    "    \"https://www.youtube.com/watch?v=arq3LOUyKRs\", \"https://www.youtube.com/watch?v=cV9GxLSErfI\", \"https://www.youtube.com/watch?v=zyFdIvKHBYg\",\n",
    "    \"https://www.youtube.com/watch?v=pdHQtMBPTx4\", \"https://www.youtube.com/watch?v=VIevFLx_D00\", \"https://www.youtube.com/watch?v=6IcFw-JaSBg\",\n",
    "    \"https://www.youtube.com/watch?v=apJyUDwkm4I\", \"https://www.youtube.com/watch?v=FdYF6X39MvU\", \"https://www.youtube.com/watch?v=CSL0X7itDSg\",\n",
    "    \"https://www.youtube.com/watch?v=xqIXNh63-tc\", \"https://www.youtube.com/watch?v=NGvOJBxKn0g\", \"https://www.youtube.com/watch?v=6GMncgX4WB4\",\n",
    "    \"https://www.youtube.com/watch?v=TXzDXfhM5Oo\", \"https://www.youtube.com/watch?v=AG99Kwjox7I\", \"https://www.youtube.com/watch?v=Kkc7PdEScXk\",\n",
    "    \"https://www.youtube.com/watch?v=ryxW8rrWJjA\", \"https://www.youtube.com/watch?v=vH5awo7HVNY\", \"https://www.youtube.com/watch?v=G_xWXK7v32Q\",\n",
    "    \"https://www.youtube.com/watch?v=YFB0UtxeokE\", \"https://www.youtube.com/watch?v=ZwLfy772cdM\", \"https://www.youtube.com/watch?v=HqyAyhfTpco\",\n",
    "    \"https://www.youtube.com/watch?v=TFTtrJJ59Rg\", \"https://www.youtube.com/watch?v=6qE5m-6eMhc\", \"https://www.youtube.com/watch?v=-e7v14xw5ic\",\n",
    "    \"https://www.youtube.com/watch?v=ZSXwTLVwcqc\", \"https://www.youtube.com/watch?v=qlaQ_Dp0Mpw\", \"https://www.youtube.com/watch?v=DLnhSA0pvwo\",\n",
    "    \"https://www.youtube.com/watch?v=1f7CTZ8AIp0\", \"https://www.youtube.com/watch?v=xnZf1FfN6n8\", \"https://www.youtube.com/watch?v=KHbg0JxG9f4\",\n",
    "    \"https://www.youtube.com/watch?v=pNaVTG1zhkM\", \"https://www.youtube.com/watch?v=3_6tIkfhLY8\", \"https://www.youtube.com/watch?v=qx7LuXMz5_c\",\n",
    "    \"https://www.youtube.com/watch?v=2gSe7GGbyTM\", \"https://www.youtube.com/watch?v=GFUXDsAn3TE\", \"https://www.youtube.com/watch?v=I--q5CIgiFE\",\n",
    "    \"https://www.youtube.com/watch?v=ZvTeGyF51NI\", \"https://www.youtube.com/watch?v=IMhywYYeuqU\"\n",
    "]"
   ]
  },
  {
   "cell_type": "code",
   "execution_count": null,
   "id": "7a3ba9e6-c252-4f88-8548-aa724e3967f0",
   "metadata": {
    "scrolled": true
   },
   "outputs": [],
   "source": [
    "output_folder = \"Add-Your-Path\\\\chaabi\"\n",
    "download_audio_from_list(chaabi_video_urls, output_folder)\n",
    "print(\"The downloads are done !\")"
   ]
  },
  {
   "cell_type": "markdown",
   "id": "c830f9b2-a767-4429-9674-95637ed79f87",
   "metadata": {},
   "source": [
    "### Andalusian Songs"
   ]
  },
  {
   "cell_type": "code",
   "execution_count": null,
   "id": "64b62b1e-3fa0-4ff4-8e61-3bfca847a773",
   "metadata": {},
   "outputs": [],
   "source": [
    "andalusian_video_urls = [\n",
    "    \"https://www.youtube.com/watch?v=oaMIy-xjcHs\", \"https://www.youtube.com/watch?v=FcFhjJioHZo\", \"https://www.youtube.com/watch?v=kkKz52nfPhc\",\n",
    "    \"https://www.youtube.com/watch?v=AfC3vtF_ZQE\", \"https://www.youtube.com/watch?v=Mq429ix87LE\", \"https://www.youtube.com/watch?v=ff-ppZ-pMbA\",\n",
    "    \"https://www.youtube.com/watch?v=X3Rx1zuzcOk\", \"https://www.youtube.com/watch?v=ga219_R_sfo\", \"https://www.youtube.com/watch?v=7EohxhMyH9c\",\n",
    "    \"https://www.youtube.com/watch?v=jWQ25N4tHrk\", \"https://www.youtube.com/watch?v=CvtAY6v-VHg\", \"https://www.youtube.com/watch?v=8Dh65us74vY\",\n",
    "    \"https://www.youtube.com/watch?v=tedjT2SOOyI\", \"https://www.youtube.com/watch?v=xBDkFDUKw8M\", \"https://www.youtube.com/watch?v=VyGek9yjoy4\",\n",
    "    \"https://www.youtube.com/watch?v=wh74mbixV_Q\", \"https://www.youtube.com/watch?v=RePH8LQggr4\", \"https://www.youtube.com/watch?v=0D8KyuYMy2U\",\n",
    "    \"https://www.youtube.com/watch?v=cIFl2_Fqkas\", \"https://www.youtube.com/watch?v=M7xrReIVNXw\", \"https://www.youtube.com/watch?v=N-rdcuaYk2o\",\n",
    "    \"https://www.youtube.com/watch?v=jNZd-W67Q3w\", \"https://www.youtube.com/watch?v=vbi4sPp3uVk\", \"https://www.youtube.com/watch?v=Q5pF9THMQgs\",\n",
    "    \"https://www.youtube.com/watch?v=4z3p_swB4xM\", \"https://www.youtube.com/watch?v=tYF450bA0FA\", \"https://www.youtube.com/watch?v=r-kdNCo3oQY\",\n",
    "    \"https://www.youtube.com/watch?v=GHrw_9eNs9A\", \"https://www.youtube.com/watch?v=JmC0HQmC53c\", \"https://www.youtube.com/watch?v=zf4mogRVYBI\",\n",
    "    \"https://www.youtube.com/watch?v=eXKUyVQGCrA\", \"https://www.youtube.com/watch?v=Z0BoUAoh5kA\", \"https://www.youtube.com/watch?v=K2ai9H3uExA\",\n",
    "    \"https://www.youtube.com/watch?v=L3PeKpE0920\", \"https://www.youtube.com/watch?v=BbZ1sKsIbvY\", \"https://www.youtube.com/watch?v=NQxT55HL8u0\",\n",
    "    \"https://www.youtube.com/watch?v=s48ElkFXaOs\", \"https://www.youtube.com/watch?v=jbAd6OS4FFw\", \"https://www.youtube.com/watch?v=eyTCDEualBs\",\n",
    "    \"https://www.youtube.com/watch?v=wbcgk1VYoS0\", \"https://www.youtube.com/watch?v=sMc1RifxHGg\", \"https://www.youtube.com/watch?v=zT5qZsyjE_M\",\n",
    "    \"https://www.youtube.com/watch?v=S4w8udCYHgM\", \"https://www.youtube.com/watch?v=hV-k2jmOHA8\", \"https://www.youtube.com/watch?v=zsTBuB38WlI\",\n",
    "    \"https://www.youtube.com/watch?v=8xYpccBbhZw\", \"https://www.youtube.com/watch?v=3MSnsIGO7_U\", \"https://www.youtube.com/watch?v=UnbypCHBaJk\",\n",
    "    \"https://www.youtube.com/watch?v=eaIcQfJ4n08\", \"https://www.youtube.com/watch?v=LjJRr52_p4Y\"\n",
    "]"
   ]
  },
  {
   "cell_type": "code",
   "execution_count": null,
   "id": "9241301d-fcac-4ea0-ab35-01bc4ec89ce3",
   "metadata": {
    "scrolled": true
   },
   "outputs": [],
   "source": [
    "output_folder = \"Add-Your-Path\\\\andalusian\"\n",
    "download_audio_from_list(andalusian_video_urls, output_folder)\n",
    "print(\"The downloads are done !\")"
   ]
  },
  {
   "cell_type": "markdown",
   "id": "433baf48-2cc1-4f24-9e72-4cf52d8cbe45",
   "metadata": {},
   "source": [
    "### Imazighn Songs"
   ]
  },
  {
   "cell_type": "code",
   "execution_count": null,
   "id": "811cb20e-fb96-4c8c-a1ab-5e00cc174da5",
   "metadata": {},
   "outputs": [],
   "source": [
    "imazighn_video_urls = [\n",
    "    \"https://www.youtube.com/watch?v=h2JL_ESFK08\", \"https://www.youtube.com/watch?v=rcqWCTbuuvI\", \"https://www.youtube.com/watch?v=IfAQIB09ofs\",\n",
    "    \"https://www.youtube.com/watch?v=U4JsHjGH-ko\", \"https://www.youtube.com/watch?v=Hvs3RnoQ03A\", \"https://www.youtube.com/watch?v=-8XN53UlRow\",\n",
    "    \"https://www.youtube.com/watch?v=DVtzzZuCOhE\", \"https://www.youtube.com/watch?v=48OpYsFM_Z8\", \"https://www.youtube.com/watch?v=7XgpYM1V0mI\",\n",
    "    \"https://www.youtube.com/watch?v=UtQVSiWrHzI\"\n",
    "]"
   ]
  },
  {
   "cell_type": "code",
   "execution_count": null,
   "id": "758f8c2e-1de1-4df5-bea9-456c538eb360",
   "metadata": {
    "scrolled": true
   },
   "outputs": [],
   "source": [
    "output_folder = \"Add-Your-Path\\\\imazighn\"\n",
    "download_audio_from_list(imazighn_video_urls, output_folder)\n",
    "print(\"The downloads are done !\")"
   ]
  },
  {
   "cell_type": "markdown",
   "id": "b4644451-4eb4-4e7b-89f3-c19c3628cfc6",
   "metadata": {},
   "source": [
    "### Gnawa Songs"
   ]
  },
  {
   "cell_type": "code",
   "execution_count": null,
   "id": "6c27857d-42f9-4670-aa1c-80dd624cefc3",
   "metadata": {},
   "outputs": [],
   "source": [
    "gnawa_video_urls = [\n",
    "    \"https://www.youtube.com/watch?v=D2jy0_p4DpI\", \"https://www.youtube.com/watch?v=QflB7UPwbDA\", \"https://www.youtube.com/watch?v=rEx9i5mePK8\",\n",
    "    \"https://www.youtube.com/watch?v=8XF9FsoUx4g\", \"https://www.youtube.com/watch?v=gcpjTgmlF-E\", \"https://www.youtube.com/watch?v=yJ25mnw6U9M\",\n",
    "    \"https://www.youtube.com/watch?v=K-xymUfJCgw\", \"https://www.youtube.com/watch?v=dJp2qlakl94\", \"https://www.youtube.com/watch?v=6QoFweDKpRs\",\n",
    "    \"https://www.youtube.com/watch?v=aG1cbXlUJKI\", \"https://www.youtube.com/watch?v=ccbtiHpNfD4\", \"https://www.youtube.com/watch?v=LLZ-p1Hhr6c\",\n",
    "    \"https://www.youtube.com/watch?v=2wuVINvGCGg\", \"https://www.youtube.com/watch?v=Frvx6povfJA\", \"https://www.youtube.com/watch?v=C1zkesIOn7U\",\n",
    "    \"https://www.youtube.com/watch?v=RNT-orKorKA\", \"https://www.youtube.com/watch?v=sb1YckAvyX8\", \"https://www.youtube.com/watch?v=TAx4L4jbcJw\",\n",
    "    \"https://www.youtube.com/watch?v=IUfxePlWK7I\", \"https://www.youtube.com/watch?v=QzsMAHA7UQY\", \"https://www.youtube.com/watch?v=tLXpIJyYY1w\",\n",
    "    \"https://www.youtube.com/watch?v=BAJUgHvWI7U\", \"https://www.youtube.com/watch?v=QflB7UPwbDA\", \"https://www.youtube.com/watch?v=r-aovvXnuro\",\n",
    "    \"https://www.youtube.com/watch?v=OteVYckDDLU\", \"https://www.youtube.com/watch?v=EJ4SBB4gGoo\", \"https://www.youtube.com/watch?v=nHWd1EeOT4E\",\n",
    "    \"https://www.youtube.com/watch?v=RMunS0aJLIA\", \"https://www.youtube.com/watch?v=o6-pWZuZ8Co\", \"https://www.youtube.com/watch?v=Q0OzzG-ZINM\",\n",
    "    \"https://www.youtube.com/watch?v=I5kuCU4NRsU\", \"https://www.youtube.com/watch?v=hnpt9nk0714\", \"https://www.youtube.com/watch?v=AQKmfdwFhdo\",\n",
    "    \"https://www.youtube.com/watch?v=wN5vDRZ1XKE\", \"https://www.youtube.com/watch?v=EkVC3TfEokU\", \"https://www.youtube.com/watch?v=KXftwzXQP5c\", \n",
    "    \"https://www.youtube.com/watch?v=zKjkmrqNRsw\", \"https://www.youtube.com/watch?v=KoqI39w0w0I\", \"https://www.youtube.com/watch?v=G2ESmEcIPeg\", \n",
    "    \"https://www.youtube.com/watch?v=paIJqFohVYk\", \"https://www.youtube.com/watch?v=Dn4aRfaJMmU\", \"https://www.youtube.com/watch?v=thsYtNkY_2A\", \n",
    "    \"https://www.youtube.com/watch?v=CYUb6GtqfxE\", \"https://www.youtube.com/watch?v=y5IC4bGQrpY\", \"https://www.youtube.com/watch?v=CD9jmot7SDM\",\n",
    "    \"https://www.youtube.com/watch?v=s7S4_VVoEuE\", \"https://www.youtube.com/watch?v=pYi4a1jRvEA\", \"https://www.youtube.com/watch?v=GeD0QuV3amc\",\n",
    "    \"https://www.youtube.com/watch?v=S1O_rwABnSI\", \"https://www.youtube.com/watch?v=DQVF05ZOldo\", \"https://www.youtube.com/watch?v=sTw6BNf5MnU\"\n",
    "]"
   ]
  },
  {
   "cell_type": "code",
   "execution_count": null,
   "id": "f51b615b-5736-4eb9-bd49-fcdfd8203b5f",
   "metadata": {
    "scrolled": true
   },
   "outputs": [],
   "source": [
    "output_folder = \"Add-Your-Path\\\\gnawa\"\n",
    "download_audio_from_list(gnawa_video_urls, output_folder)\n",
    "print(\"The downloads are done !\")"
   ]
  },
  {
   "cell_type": "markdown",
   "id": "4e1bc13c-fa2e-4d21-b00c-5394235e972e",
   "metadata": {},
   "source": [
    "### Rai songs"
   ]
  },
  {
   "cell_type": "code",
   "execution_count": null,
   "id": "2f0b7e9b-5e37-4a9f-a7f8-3e6cb036da86",
   "metadata": {},
   "outputs": [],
   "source": [
    "rai_video_urls = [\n",
    "    \"https://www.youtube.com/watch?v=gzlHucbD76U\", \"https://www.youtube.com/watch?v=tTcnIYYeZI8\", \"https://www.youtube.com/watch?v=N45JI3OnUV8\",\n",
    "    \"https://www.youtube.com/watch?v=FWFkals_uMo\", \"https://www.youtube.com/watch?v=Ixbjsy-SMLs\", \"https://www.youtube.com/watch?v=J2S3_m7zP1I\",\n",
    "    \"https://www.youtube.com/watch?v=xiSBOz9gtdY\", \"https://www.youtube.com/watch?v=2shw9gBkKXs\", \"https://www.youtube.com/watch?v=3ZaHNkVp3rY\",\n",
    "    \"https://www.youtube.com/watch?v=MdpnrE2_eEo\", \"https://www.youtube.com/watch?v=6Xwif9nQ_NY\", \"https://www.youtube.com/watch?v=IF0_Joq2oYg\",\n",
    "    \"https://www.youtube.com/watch?v=x6UkXE2SV90\", \"https://www.youtube.com/watch?v=cbLnUOYXNFE\", \"https://www.youtube.com/watch?v=LhfIdDRZjfs\",\n",
    "    \"https://www.youtube.com/watch?v=T9RZdVy6iAg\", \"https://www.youtube.com/watch?v=fqh-tEoorqo\", \"https://www.youtube.com/watch?v=lL8mKAKOIqw\",\n",
    "    \"https://www.youtube.com/watch?v=NKfiWeI7S_A\", \"https://www.youtube.com/watch?v=rfyZrJUmzxU\", \"https://www.youtube.com/watch?v=u3oRKJ29ci4\",\n",
    "    \"https://www.youtube.com/watch?v=b5fgBDwREyY\", \"https://www.youtube.com/watch?v=DNwwo67f0U8\", \"https://www.youtube.com/watch?v=cmn38Btu9jk\",\n",
    "    \"https://www.youtube.com/watch?v=fITgH6jhXd4\", \"https://www.youtube.com/watch?v=aN3C1Y8fGpg\", \"https://www.youtube.com/watch?v=EOy5mTQccZI\",\n",
    "    \"https://www.youtube.com/watch?v=-Xw-ONO5YfE\", \"https://www.youtube.com/watch?v=J3hpqsXabW0\", \"https://www.youtube.com/watch?v=YZJXd_0h-cg\",\n",
    "    \"https://www.youtube.com/watch?v=aJXZ_p3G01k\", \"https://www.youtube.com/watch?v=EZse_HGgSME\", \"https://www.youtube.com/watch?v=zCihNpcwmiE\",\n",
    "    \"https://www.youtube.com/watch?v=D89oyCPXMUo\", \"https://www.youtube.com/watch?v=P2OYoB64K0M\", \"https://www.youtube.com/watch?v=SulA5dE9RFc\",\n",
    "    \"https://www.youtube.com/watch?v=zgTGOYJUCWE\", \"https://www.youtube.com/watch?v=tKGd8cslcXo\", \"https://www.youtube.com/watch?v=D_ZK7Riw4IU\",\n",
    "    \"https://www.youtube.com/watch?v=a4EXnT6ASXs\", \"https://www.youtube.com/watch?v=1Sfbhaa6xaM\", \"https://www.youtube.com/watch?v=m886BpeFPHQ\",\n",
    "    \"https://www.youtube.com/watch?v=cQttJ4K3Gh8\", \"https://www.youtube.com/watch?v=TU4G8zq0bSU\", \"https://www.youtube.com/watch?v=w0wi1G7Bn6Y\",\n",
    "    \"https://www.youtube.com/watch?v=Mi1Iyti8Ac0\", \"https://www.youtube.com/watch?v=XVQuf1aOSzw\", \"https://www.youtube.com/watch?v=aNqt7Vy6x0U\",\n",
    "    \"https://www.youtube.com/watch?v=iwafvm1aHb4\", \"https://www.youtube.com/watch?v=xSqU1LOCuy0\"\n",
    "]"
   ]
  },
  {
   "cell_type": "code",
   "execution_count": null,
   "id": "628a70a6-aa18-4b34-aa64-6c1cf4e9ba16",
   "metadata": {
    "scrolled": true
   },
   "outputs": [],
   "source": [
    "output_folder = \"Add-Your-Path\\\\rai\"\n",
    "download_audio_from_list(rai_video_urls, output_folder)\n",
    "print(\"The downloads are done !\")"
   ]
  },
  {
   "cell_type": "markdown",
   "id": "4569c611-e897-4b61-9ec4-81b799327b73",
   "metadata": {},
   "source": [
    "### Pop Songs"
   ]
  },
  {
   "cell_type": "code",
   "execution_count": null,
   "id": "9c62c754-fcbe-4583-bdef-04022e0f6647",
   "metadata": {},
   "outputs": [],
   "source": [
    "pop_video_urls = [\n",
    "    \"https://www.youtube.com/watch?v=Wgq51763Bic\", \"https://www.youtube.com/watch?v=FmyvZut0FLw\", \"https://www.youtube.com/watch?v=Ph_tbASm31Y\",\n",
    "    \"https://www.youtube.com/watch?v=cIAhXjiJctQ\", \"https://www.youtube.com/watch?v=xLGTRaVPsIo\", \"https://www.youtube.com/watch?v=Mme9REVuidw\",\n",
    "    \"https://www.youtube.com/watch?v=3koMzPZTRVE\", \"https://www.youtube.com/watch?v=ef8h-6BrF2M\", \"https://www.youtube.com/watch?v=Vqu8vfnHwxk\",\n",
    "    \"https://www.youtube.com/watch?v=y88nAMy3qsA\", \"https://www.youtube.com/watch?v=EvHW5vBSPjk\", \"https://www.youtube.com/watch?v=vUmaIkt-JKg\",\n",
    "    \"https://www.youtube.com/watch?v=lhnmVSB-Rxc\", \"https://www.youtube.com/watch?v=E6nNziuQzBU\", \"https://www.youtube.com/watch?v=ygHkJmTnmvo\",\n",
    "    \"https://www.youtube.com/watch?v=59LAMFrqACg\", \"https://www.youtube.com/watch?v=_Fwf45pIAtM\", \"https://www.youtube.com/watch?v=T9iAXcuabDE\",\n",
    "    \"https://www.youtube.com/watch?v=aLAJ_AngTQA\", \"https://www.youtube.com/watch?v=qHIDIcyVWmQ\", \"https://www.youtube.com/watch?v=mraI_OxrMz0\",\n",
    "    \"https://www.youtube.com/watch?v=sFQCfpihCcs\", \"https://www.youtube.com/watch?v=TJv9MsRSPeA\", \"https://www.youtube.com/watch?v=jdOexDNgS_I\",\n",
    "    \"https://www.youtube.com/watch?v=BYpLMKJMq3c\", \"https://www.youtube.com/watch?v=c1IQVDQCYuc\", \"https://www.youtube.com/watch?v=O6p-_SY5DfM\",\n",
    "    \"https://www.youtube.com/watch?v=Jah9j6h1Gb4\", \"https://www.youtube.com/watch?v=4C5R_cubTao\", \"https://www.youtube.com/watch?v=CNXOhJ8701E\",\n",
    "    \"https://www.youtube.com/watch?v=o1-HSFHz6OI\", \"https://www.youtube.com/watch?v=6sVxpn_6ReQ\", \"https://www.youtube.com/watch?v=tCfzhBMR-QY\",\n",
    "    \"https://www.youtube.com/watch?v=89WrZ6a34sg\", \"https://www.youtube.com/watch?v=Jv6QBOVIb7s\", \"https://www.youtube.com/watch?v=Gm6L6ODiPK4\",\n",
    "    \"https://www.youtube.com/watch?v=1TdQH38RSYY\", \"https://www.youtube.com/watch?v=FStsuHe5Fio\", \"https://www.youtube.com/watch?v=e6Ud9c5ui28\",\n",
    "    \"https://www.youtube.com/watch?v=4QFlql-D-Qc\", \"https://www.youtube.com/watch?v=wAH_n25aj9A\", \"https://www.youtube.com/watch?v=BYKWNazJFpU\",\n",
    "    \"https://www.youtube.com/watch?v=qe28cOtlvMs\", \"https://www.youtube.com/watch?v=BQ46ftZ7j5I\", \"https://www.youtube.com/watch?v=IHdPo7MQ63w\",\n",
    "    \"https://www.youtube.com/watch?v=qPF-vFYAho0\", \"https://www.youtube.com/watch?v=GwgOP4163WE\", \"https://www.youtube.com/watch?v=GwgOP4163WE\",\n",
    "    \"https://www.youtube.com/watch?v=wT_Q15TjQW0\", \"https://www.youtube.com/watch?v=XqzyX6JxW2Y\"\n",
    "]"
   ]
  },
  {
   "cell_type": "code",
   "execution_count": null,
   "id": "18a64d93-998e-439f-a2b5-a37d4354c201",
   "metadata": {
    "scrolled": true
   },
   "outputs": [],
   "source": [
    "output_folder = \"Add-Your-Path\\\\pop\"\n",
    "download_audio_from_list(pop_video_urls, output_folder)\n",
    "print(\"The downloads are done !\")"
   ]
  }
 ],
 "metadata": {
  "kernelspec": {
   "display_name": "Python 3 (ipykernel)",
   "language": "python",
   "name": "python3"
  },
  "language_info": {
   "codemirror_mode": {
    "name": "ipython",
    "version": 3
   },
   "file_extension": ".py",
   "mimetype": "text/x-python",
   "name": "python",
   "nbconvert_exporter": "python",
   "pygments_lexer": "ipython3",
   "version": "3.12.4"
  }
 },
 "nbformat": 4,
 "nbformat_minor": 5
}
