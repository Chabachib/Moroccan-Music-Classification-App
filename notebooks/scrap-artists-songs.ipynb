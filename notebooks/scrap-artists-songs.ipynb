{
 "cells": [
  {
   "cell_type": "code",
   "execution_count": null,
   "metadata": {},
   "outputs": [],
   "source": [
    "import spotipy\n",
    "from spotipy.oauth2 import SpotifyClientCredentials"
   ]
  },
  {
   "cell_type": "code",
   "execution_count": null,
   "metadata": {},
   "outputs": [],
   "source": [
    "CLIENT_ID = 'Add-Your-Client-ID'\n",
    "CLIENT_SECRET = 'Add-Your-Client-Secret'\n",
    "\n",
    "client_credentials_manager = SpotifyClientCredentials(client_id=CLIENT_ID, client_secret=CLIENT_SECRET)\n",
    "sp = spotipy.Spotify(client_credentials_manager=client_credentials_manager)"
   ]
  },
  {
   "cell_type": "code",
   "execution_count": null,
   "metadata": {
    "colab": {
     "base_uri": "https://localhost:8080/"
    },
    "id": "Ss-1qncbH08-",
    "outputId": "1ac89d8e-00f2-4ef2-89fa-59197fc69b53"
   },
   "outputs": [],
   "source": [
    "def get_artist_all_songs(artist_name):\n",
    "    results = sp.search(q='artist:' + artist_name, type='artist')\n",
    "    if len(results['artists']['items']) == 0:\n",
    "        print(f\"No artist found with the name '{artist_name}'\")\n",
    "        return\n",
    "    artist_id = results['artists']['items'][0]['id']\n",
    "    albums = sp.artist_albums(artist_id, album_type='album,single')\n",
    "    all_track_ids = []\n",
    "    for item in albums['items']:\n",
    "        album_id = item['id']\n",
    "        tracks = sp.album_tracks(album_id)\n",
    "        all_track_ids.extend([track['id'] for track in tracks['items']])\n",
    "    print(f\"All songs by {artist_name}:\")\n",
    "    for i, track_id in enumerate(all_track_ids, 1):\n",
    "        track_info = sp.track(track_id)\n",
    "        print(f\"{i}. {track_info['name']}\")"
   ]
  },
  {
   "cell_type": "code",
   "execution_count": null,
   "metadata": {},
   "outputs": [],
   "source": [
    "artist_name = input(\"Enter the name of the artist: \")\n",
    "get_artist_all_songs(artist_name)"
   ]
  }
 ],
 "metadata": {
  "colab": {
   "provenance": []
  },
  "kernelspec": {
   "display_name": "Python 3 (ipykernel)",
   "language": "python",
   "name": "python3"
  },
  "language_info": {
   "codemirror_mode": {
    "name": "ipython",
    "version": 3
   },
   "file_extension": ".py",
   "mimetype": "text/x-python",
   "name": "python",
   "nbconvert_exporter": "python",
   "pygments_lexer": "ipython3",
   "version": "3.12.4"
  }
 },
 "nbformat": 4,
 "nbformat_minor": 4
}
